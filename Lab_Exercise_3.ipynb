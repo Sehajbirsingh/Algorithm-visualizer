{
  "cells": [
    {
      "cell_type": "markdown",
      "metadata": {
        "id": "view-in-github",
        "colab_type": "text"
      },
      "source": [
        "<a href=\"https://colab.research.google.com/github/Sehajbirsingh/Algorithm-visualizer/blob/master/Lab_Exercise_3.ipynb\" target=\"_parent\"><img src=\"https://colab.research.google.com/assets/colab-badge.svg\" alt=\"Open In Colab\"/></a>"
      ]
    },
    {
      "cell_type": "markdown",
      "metadata": {
        "id": "KBacZeRQkACB"
      },
      "source": [
        "<p style=\"font-family: Arial; font-size:3em;color:black;\"> Lab Exercise 3 </p>"
      ]
    },
    {
      "cell_type": "code",
      "execution_count": 1,
      "metadata": {
        "id": "DklAqy-PkACG"
      },
      "outputs": [],
      "source": [
        "import numpy as np\n",
        "from numpy.linalg import inv\n",
        "from numpy.linalg import det"
      ]
    },
    {
      "cell_type": "code",
      "source": [
        "A=np.array([[5,2,3],[6,1,3],[2,4,1]])\n",
        "print(A)"
      ],
      "metadata": {
        "colab": {
          "base_uri": "https://localhost:8080/"
        },
        "id": "7tkMeFZVkBn4",
        "outputId": "2106449c-a72e-440d-bb8f-4969603d5acb"
      },
      "execution_count": 2,
      "outputs": [
        {
          "output_type": "stream",
          "name": "stdout",
          "text": [
            "[[5 2 3]\n",
            " [6 1 3]\n",
            " [2 4 1]]\n"
          ]
        }
      ]
    },
    {
      "cell_type": "code",
      "source": [
        "\n",
        "B = A[0:2, 0:2]\n",
        "print(B)\n"
      ],
      "metadata": {
        "colab": {
          "base_uri": "https://localhost:8080/"
        },
        "id": "XQzHRdWukcSX",
        "outputId": "e77bec80-d9ee-4ddb-9423-d8421438edce"
      },
      "execution_count": 3,
      "outputs": [
        {
          "output_type": "stream",
          "name": "stdout",
          "text": [
            "[[5 2]\n",
            " [6 1]]\n"
          ]
        }
      ]
    },
    {
      "cell_type": "code",
      "source": [
        "C=A[1:3,1:3]\n",
        "print(C)"
      ],
      "metadata": {
        "colab": {
          "base_uri": "https://localhost:8080/"
        },
        "id": "Rcdflem1kvFX",
        "outputId": "dc5ea87f-c6b5-4c3b-a3bf-cfc37cefb70f"
      },
      "execution_count": 4,
      "outputs": [
        {
          "output_type": "stream",
          "name": "stdout",
          "text": [
            "[[1 3]\n",
            " [4 1]]\n"
          ]
        }
      ]
    },
    {
      "cell_type": "code",
      "source": [
        "D=np.array([[4,-7,4],[5,6,-1],[-4,2,5]])\n",
        "print(D)"
      ],
      "metadata": {
        "colab": {
          "base_uri": "https://localhost:8080/"
        },
        "id": "ioPFFcY-k43q",
        "outputId": "f271e08d-74f0-49c5-b40a-c3382e032455"
      },
      "execution_count": 5,
      "outputs": [
        {
          "output_type": "stream",
          "name": "stdout",
          "text": [
            "[[ 4 -7  4]\n",
            " [ 5  6 -1]\n",
            " [-4  2  5]]\n"
          ]
        }
      ]
    },
    {
      "cell_type": "code",
      "source": [
        "AD = np.dot(A,D)\n",
        "print(AD)\n",
        "print('------------')\n",
        "DA = np.dot(D,A)\n",
        "print(DA)\n"
      ],
      "metadata": {
        "colab": {
          "base_uri": "https://localhost:8080/"
        },
        "id": "y1D464EYlitW",
        "outputId": "bca6aa4a-f09c-4b3c-d6c0-9038cdf96ad9"
      },
      "execution_count": 7,
      "outputs": [
        {
          "output_type": "stream",
          "name": "stdout",
          "text": [
            "[[ 18 -17  33]\n",
            " [ 17 -30  38]\n",
            " [ 24  12   9]]\n",
            "------------\n",
            "[[-14  17  -5]\n",
            " [ 59  12  32]\n",
            " [  2  14  -1]]\n"
          ]
        }
      ]
    },
    {
      "cell_type": "code",
      "source": [
        "print(det(B))\n",
        "print(inv(B))\n"
      ],
      "metadata": {
        "colab": {
          "base_uri": "https://localhost:8080/"
        },
        "id": "AJ_-c-xRlriL",
        "outputId": "ec9c6fbd-fa05-4ecf-ae93-cd09692b2dfb"
      },
      "execution_count": 15,
      "outputs": [
        {
          "output_type": "stream",
          "name": "stdout",
          "text": [
            "-6.999999999999999\n",
            "[[-0.14285714  0.28571429]\n",
            " [ 0.85714286 -0.71428571]]\n"
          ]
        }
      ]
    },
    {
      "cell_type": "code",
      "source": [
        "print(det(D))\n",
        "print(np.dot(D,inv(D)))"
      ],
      "metadata": {
        "colab": {
          "base_uri": "https://localhost:8080/"
        },
        "id": "Ibyu7ubtmBx7",
        "outputId": "d6f174d7-86dc-48ae-cc8c-6b149064b6be"
      },
      "execution_count": 10,
      "outputs": [
        {
          "output_type": "stream",
          "name": "stdout",
          "text": [
            "411.00000000000017\n",
            "[[ 1.00000000e+00  1.11022302e-16  0.00000000e+00]\n",
            " [ 6.93889390e-17  1.00000000e+00 -5.55111512e-17]\n",
            " [-1.38777878e-17 -8.32667268e-17  1.00000000e+00]]\n"
          ]
        }
      ]
    },
    {
      "cell_type": "code",
      "source": [
        "\n",
        "\n",
        "print(np.round(np.dot(D, inv(D))).astype(int))\n",
        "\n",
        "print(np.round(np.dot( inv(D),D)).astype(int))\n",
        "\n"
      ],
      "metadata": {
        "colab": {
          "base_uri": "https://localhost:8080/"
        },
        "id": "ZgZJHdb_mJKi",
        "outputId": "3c728637-1a9e-4249-fc3f-d28477aeaf30"
      },
      "execution_count": 20,
      "outputs": [
        {
          "output_type": "stream",
          "name": "stdout",
          "text": [
            "[[1 0 0]\n",
            " [0 1 0]\n",
            " [0 0 1]]\n",
            "[[1 0 0]\n",
            " [0 1 0]\n",
            " [0 0 1]]\n"
          ]
        }
      ]
    },
    {
      "cell_type": "code",
      "source": [],
      "metadata": {
        "id": "mfFCK3vYnJFJ"
      },
      "execution_count": null,
      "outputs": []
    }
  ],
  "metadata": {
    "kernelspec": {
      "display_name": "Python 3 (ipykernel)",
      "language": "python",
      "name": "python3"
    },
    "language_info": {
      "codemirror_mode": {
        "name": "ipython",
        "version": 3
      },
      "file_extension": ".py",
      "mimetype": "text/x-python",
      "name": "python",
      "nbconvert_exporter": "python",
      "pygments_lexer": "ipython3",
      "version": "3.9.7"
    },
    "colab": {
      "provenance": [],
      "include_colab_link": true
    }
  },
  "nbformat": 4,
  "nbformat_minor": 0
}